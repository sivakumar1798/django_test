{
  "nbformat": 4,
  "nbformat_minor": 0,
  "metadata": {
    "colab": {
      "provenance": []
    },
    "kernelspec": {
      "name": "python3",
      "display_name": "Python 3"
    },
    "language_info": {
      "name": "python"
    }
  },
  "cells": [
    {
      "cell_type": "code",
      "execution_count": null,
      "metadata": {
        "colab": {
          "base_uri": "https://localhost:8080/"
        },
        "id": "-XU3_aRitCbl",
        "outputId": "62763cbc-d7cd-4194-8f87-11ca2031d62c"
      },
      "outputs": [
        {
          "output_type": "stream",
          "name": "stdout",
          "text": [
            "Looking in indexes: https://pypi.org/simple, https://us-python.pkg.dev/colab-wheels/public/simple/\n",
            "Collecting openai\n",
            "  Downloading openai-0.25.0.tar.gz (44 kB)\n",
            "\u001b[K     |████████████████████████████████| 44 kB 1.2 MB/s \n",
            "\u001b[?25h  Installing build dependencies ... \u001b[?25l\u001b[?25hdone\n",
            "  Getting requirements to build wheel ... \u001b[?25l\u001b[?25hdone\n",
            "    Preparing wheel metadata ... \u001b[?25l\u001b[?25hdone\n",
            "Requirement already satisfied: requests>=2.20 in /usr/local/lib/python3.8/dist-packages (from openai) (2.23.0)\n",
            "Requirement already satisfied: tqdm in /usr/local/lib/python3.8/dist-packages (from openai) (4.64.1)\n",
            "Requirement already satisfied: numpy in /usr/local/lib/python3.8/dist-packages (from openai) (1.21.6)\n",
            "Collecting pandas-stubs>=1.1.0.11\n",
            "  Downloading pandas_stubs-1.5.2.221124-py3-none-any.whl (146 kB)\n",
            "\u001b[K     |████████████████████████████████| 146 kB 13.4 MB/s \n",
            "\u001b[?25hRequirement already satisfied: typing-extensions in /usr/local/lib/python3.8/dist-packages (from openai) (4.4.0)\n",
            "Requirement already satisfied: pandas>=1.2.3 in /usr/local/lib/python3.8/dist-packages (from openai) (1.3.5)\n",
            "Requirement already satisfied: openpyxl>=3.0.7 in /usr/local/lib/python3.8/dist-packages (from openai) (3.0.10)\n",
            "Requirement already satisfied: et-xmlfile in /usr/local/lib/python3.8/dist-packages (from openpyxl>=3.0.7->openai) (1.1.0)\n",
            "Requirement already satisfied: pytz>=2017.3 in /usr/local/lib/python3.8/dist-packages (from pandas>=1.2.3->openai) (2022.6)\n",
            "Requirement already satisfied: python-dateutil>=2.7.3 in /usr/local/lib/python3.8/dist-packages (from pandas>=1.2.3->openai) (2.8.2)\n",
            "Collecting types-pytz>=2022.1.1\n",
            "  Downloading types_pytz-2022.6.0.1-py3-none-any.whl (4.7 kB)\n",
            "Requirement already satisfied: six>=1.5 in /usr/local/lib/python3.8/dist-packages (from python-dateutil>=2.7.3->pandas>=1.2.3->openai) (1.15.0)\n",
            "Requirement already satisfied: urllib3!=1.25.0,!=1.25.1,<1.26,>=1.21.1 in /usr/local/lib/python3.8/dist-packages (from requests>=2.20->openai) (1.24.3)\n",
            "Requirement already satisfied: chardet<4,>=3.0.2 in /usr/local/lib/python3.8/dist-packages (from requests>=2.20->openai) (3.0.4)\n",
            "Requirement already satisfied: idna<3,>=2.5 in /usr/local/lib/python3.8/dist-packages (from requests>=2.20->openai) (2.10)\n",
            "Requirement already satisfied: certifi>=2017.4.17 in /usr/local/lib/python3.8/dist-packages (from requests>=2.20->openai) (2022.9.24)\n",
            "Building wheels for collected packages: openai\n",
            "  Building wheel for openai (PEP 517) ... \u001b[?25l\u001b[?25hdone\n",
            "  Created wheel for openai: filename=openai-0.25.0-py3-none-any.whl size=55880 sha256=da8dcfa1d16eede64b1ef9ac4fb914941acf3ba3f6259cae858f6cc3b7b1a388\n",
            "  Stored in directory: /root/.cache/pip/wheels/4b/92/33/6f57c7aae0b16875267999a50570e81f15eecec577ebe05a2e\n",
            "Successfully built openai\n",
            "Installing collected packages: types-pytz, pandas-stubs, openai\n",
            "Successfully installed openai-0.25.0 pandas-stubs-1.5.2.221124 types-pytz-2022.6.0.1\n"
          ]
        }
      ],
      "source": [
        "!pip install openai"
      ]
    },
    {
      "cell_type": "code",
      "source": [
        "!pip3 install twint"
      ],
      "metadata": {
        "colab": {
          "base_uri": "https://localhost:8080/"
        },
        "id": "BcfaWEHF506x",
        "outputId": "8dd117b4-b5ed-4c37-daa3-54b7c10742a9"
      },
      "execution_count": null,
      "outputs": [
        {
          "output_type": "stream",
          "name": "stdout",
          "text": [
            "Looking in indexes: https://pypi.org/simple, https://us-python.pkg.dev/colab-wheels/public/simple/\n",
            "Requirement already satisfied: twint in ./src/twint (2.1.21)\n",
            "Requirement already satisfied: aiohttp in /usr/local/lib/python3.8/dist-packages (from twint) (3.8.3)\n",
            "Requirement already satisfied: aiodns in /root/.local/lib/python3.8/site-packages (from twint) (3.0.0)\n",
            "Requirement already satisfied: beautifulsoup4 in /usr/local/lib/python3.8/dist-packages (from twint) (4.6.3)\n",
            "Requirement already satisfied: cchardet in /root/.local/lib/python3.8/site-packages (from twint) (2.1.7)\n",
            "Requirement already satisfied: dataclasses in /root/.local/lib/python3.8/site-packages (from twint) (0.6)\n",
            "Requirement already satisfied: elasticsearch in /root/.local/lib/python3.8/site-packages (from twint) (8.5.3)\n",
            "Requirement already satisfied: pysocks in /usr/local/lib/python3.8/dist-packages (from twint) (1.7.1)\n",
            "Requirement already satisfied: pandas in /usr/local/lib/python3.8/dist-packages (from twint) (1.3.5)\n",
            "Requirement already satisfied: aiohttp_socks in /root/.local/lib/python3.8/site-packages (from twint) (0.7.1)\n",
            "Requirement already satisfied: schedule in /root/.local/lib/python3.8/site-packages (from twint) (1.1.0)\n",
            "Requirement already satisfied: geopy in /usr/local/lib/python3.8/dist-packages (from twint) (1.17.0)\n",
            "Requirement already satisfied: fake-useragent in /root/.local/lib/python3.8/site-packages (from twint) (1.1.1)\n",
            "Requirement already satisfied: googletransx in /root/.local/lib/python3.8/site-packages (from twint) (2.4.2)\n",
            "Requirement already satisfied: pycares>=4.0.0 in /root/.local/lib/python3.8/site-packages (from aiodns->twint) (4.3.0)\n",
            "Requirement already satisfied: cffi>=1.5.0 in /usr/local/lib/python3.8/dist-packages (from pycares>=4.0.0->aiodns->twint) (1.15.1)\n",
            "Requirement already satisfied: pycparser in /usr/local/lib/python3.8/dist-packages (from cffi>=1.5.0->pycares>=4.0.0->aiodns->twint) (2.21)\n",
            "Requirement already satisfied: charset-normalizer<3.0,>=2.0 in /usr/local/lib/python3.8/dist-packages (from aiohttp->twint) (2.1.1)\n",
            "Requirement already satisfied: aiosignal>=1.1.2 in /usr/local/lib/python3.8/dist-packages (from aiohttp->twint) (1.3.1)\n",
            "Requirement already satisfied: async-timeout<5.0,>=4.0.0a3 in /usr/local/lib/python3.8/dist-packages (from aiohttp->twint) (4.0.2)\n",
            "Requirement already satisfied: yarl<2.0,>=1.0 in /usr/local/lib/python3.8/dist-packages (from aiohttp->twint) (1.8.2)\n",
            "Requirement already satisfied: frozenlist>=1.1.1 in /usr/local/lib/python3.8/dist-packages (from aiohttp->twint) (1.3.3)\n",
            "Requirement already satisfied: multidict<7.0,>=4.5 in /usr/local/lib/python3.8/dist-packages (from aiohttp->twint) (6.0.3)\n",
            "Requirement already satisfied: attrs>=17.3.0 in /usr/local/lib/python3.8/dist-packages (from aiohttp->twint) (22.1.0)\n",
            "Requirement already satisfied: idna>=2.0 in /usr/local/lib/python3.8/dist-packages (from yarl<2.0,>=1.0->aiohttp->twint) (2.10)\n",
            "Requirement already satisfied: python-socks[asyncio]<3.0.0,>=2.0.0 in /root/.local/lib/python3.8/site-packages (from aiohttp_socks->twint) (2.0.3)\n",
            "Requirement already satisfied: elastic-transport<9,>=8 in /root/.local/lib/python3.8/site-packages (from elasticsearch->twint) (8.4.0)\n",
            "Requirement already satisfied: urllib3<2,>=1.26.2 in /root/.local/lib/python3.8/site-packages (from elastic-transport<9,>=8->elasticsearch->twint) (1.26.13)\n",
            "Requirement already satisfied: certifi in /usr/local/lib/python3.8/dist-packages (from elastic-transport<9,>=8->elasticsearch->twint) (2022.9.24)\n",
            "Requirement already satisfied: importlib-resources>=5.0 in /usr/local/lib/python3.8/dist-packages (from fake-useragent->twint) (5.10.0)\n",
            "Requirement already satisfied: zipp>=3.1.0 in /usr/local/lib/python3.8/dist-packages (from importlib-resources>=5.0->fake-useragent->twint) (3.11.0)\n",
            "Requirement already satisfied: geographiclib<2,>=1.49 in /usr/local/lib/python3.8/dist-packages (from geopy->twint) (1.52)\n",
            "Requirement already satisfied: requests in /root/.local/lib/python3.8/site-packages (from googletransx->twint) (2.28.1)\n",
            "Requirement already satisfied: python-dateutil>=2.7.3 in /usr/local/lib/python3.8/dist-packages (from pandas->twint) (2.8.2)\n",
            "Requirement already satisfied: numpy>=1.17.3 in /usr/local/lib/python3.8/dist-packages (from pandas->twint) (1.21.6)\n",
            "Requirement already satisfied: pytz>=2017.3 in /usr/local/lib/python3.8/dist-packages (from pandas->twint) (2022.6)\n",
            "Requirement already satisfied: six>=1.5 in /usr/local/lib/python3.8/dist-packages (from python-dateutil>=2.7.3->pandas->twint) (1.15.0)\n"
          ]
        }
      ]
    },
    {
      "cell_type": "code",
      "source": [
        "!pip install nest-asyncio"
      ],
      "metadata": {
        "colab": {
          "base_uri": "https://localhost:8080/"
        },
        "id": "2llef6AE8iDO",
        "outputId": "8c465a84-598f-4a41-b38e-268cd8addcfb"
      },
      "execution_count": null,
      "outputs": [
        {
          "output_type": "stream",
          "name": "stdout",
          "text": [
            "Looking in indexes: https://pypi.org/simple, https://us-python.pkg.dev/colab-wheels/public/simple/\n",
            "Collecting nest-asyncio\n",
            "  Downloading nest_asyncio-1.5.6-py3-none-any.whl (5.2 kB)\n",
            "Installing collected packages: nest-asyncio\n",
            "Successfully installed nest-asyncio-1.5.6\n"
          ]
        }
      ]
    },
    {
      "cell_type": "code",
      "source": [
        "import nest_asyncio\n",
        "nest_asyncio.apply()"
      ],
      "metadata": {
        "id": "YLbKTQtX8cTi"
      },
      "execution_count": null,
      "outputs": []
    },
    {
      "cell_type": "code",
      "source": [
        "import twint\n"
      ],
      "metadata": {
        "id": "iQRDAoMv6FlI"
      },
      "execution_count": null,
      "outputs": []
    },
    {
      "cell_type": "code",
      "source": [
        "# Set up TWINT config\n",
        "c = twint.Config()\n",
        "c.Search = \"football\"\n",
        "# Custom output format\n",
        "c.Limit = 50\n",
        "c.Since='2022-12-09'\n",
        "c.Pandas = True\n",
        "twint.run.Search(c)"
      ],
      "metadata": {
        "colab": {
          "base_uri": "https://localhost:8080/"
        },
        "id": "lxthNQ5F62RK",
        "outputId": "658fe895-e1a6-4c45-c1b7-bd30faf50ddd"
      },
      "execution_count": null,
      "outputs": [
        {
          "output_type": "stream",
          "name": "stdout",
          "text": [
            "1602580481341591552 2022-12-13 08:25:35 +0000 <PharmJo_CFC> @TumininuSimon @Yubiieeee @UgwunnaEjikem Do you even know the meaning of footballing abilities? Vision, scanning, passing, shooting, shielding, technique, playmaking, tact, mentality? Football is played with the mind first before the foot and that's where Messi excels than Ronaldo. Football is played in the mind\n",
            "1602580475121659904 2022-12-13 08:25:34 +0000 <ShangoFoot> FOOT MERCATO 🔵 Espagne : Luis Enrique révèle qu’il y a un joueur qu’il regrette d’avoir emmené à la Coupe du Monde  https://t.co/j000MT6rcd  https://t.co/WCBGjI1PFA\n",
            "1602580472273436673 2022-12-13 08:25:33 +0000 <sameerabusamra> @sportbible If there is a good one yes of course .. but someone like Pep or Klopp have been here for a min .. they ran the English football world for few years .. clearly they know what they’re doing .. pay up and hire one of them\n",
            "1602580470956544002 2022-12-13 08:25:33 +0000 <hooHar> @djhistory @billboard I love this song (and Valley Road) but I can’t hear it without thinking of Des Lynum and the football tables.\n",
            "1602580466850463744 2022-12-13 08:25:32 +0000 <Nicole_football> @TxxHomeparty 彼はりるきぃよりフォロワーが多い用ですが、彼も詐欺師だと思いますか？私は怪しいと思ってます！\n",
            "1602580465155817472 2022-12-13 08:25:32 +0000 <FieldStForum> UGA Recruiting: One of the Best Quarterbacks in the Nation is in the Transfer Portal  https://t.co/0hCgUrLnUz\n",
            "1602580463687970816 2022-12-13 08:25:31 +0000 <7aa8855e0a35442> @anandmahindra Everything that you have experienced in professional football till now has made you a veteran. You are expected to pick yourself up and impart wisdom to the younger players as they look upto you\n",
            "1602580459690622976 2022-12-13 08:25:30 +0000 <tembah_football> تقرير تمبة.. مواعيد إستئناف دوريات \"بيج 5 \" بعد نهاية كأس العالم #كاس_العالم2022 #الدوري الإنجليزي  https://t.co/B839hibC3e\n",
            "1602580459455741954 2022-12-13 08:25:30 +0000 <RbDribbling> @unplugthedrug @LFCTransferRoom Stop😂\n",
            "1602580456167411712 2022-12-13 08:25:29 +0000 <kevinthe_world> 🚨 Le retour du foot 🚨  ⚽ J'ai besoin de vous pour choisir ma nouvelle carrière sur #fm23 !  Carrière RP où l'on utilisera la cellule de recrutement, on part avec qui ?  #twitchfr #football @FMFrance @FMEurope @FMUltras_\n",
            "1602580447531352065 2022-12-13 08:25:27 +0000 <765gooseman> @SchmitLogan12 Absolutely no\n",
            "1602580446268850176 2022-12-13 08:25:27 +0000 <Jeff_Tymer_> @LFC @Darwinn99 Very Authentic Liverpool Football Club Group  Liverpool fans JOIN and Let’s have fun 🤩    https://t.co/sEMDMskr4G\n",
            "1602580446067449857 2022-12-13 08:25:27 +0000 <hiraveil> @slinkescouse @GaryLineker getting payed millions to play a bit of football. truly broke.\n",
            "1602580415277047808 2022-12-13 08:25:20 +0000 <msorzVHS> Great leadership &amp; sportsmanship from Agholor but once again the NFL falls short. It shouldn’t come to players stopping the snap in this situation- could have been another huge scare on the NFL field…  Protect these players. There’s more to life than football.\n",
            "1602580408025088003 2022-12-13 08:25:18 +0000 <Hey_Rickay> Kwani twitter change how you preview an image on the TL? I can see links to open 😳\n",
            "1602580405516902400 2022-12-13 08:25:17 +0000 <dzballonlesite> CDM 2022: Un montage image très bien réalisé sur la réussite du Maroc  https://t.co/1b4aWaKGFt via @DZBallon  L'actu du football Algérien\n",
            "1602580391222808577 2022-12-13 08:25:14 +0000 <Maestro_Pedri> @rashyfaze @MCFC__BH I beg you watch football.\n",
            "1602580389624795138 2022-12-13 08:25:14 +0000 <betzillanam> Today's football highlights are headlined by the World Cup Semi-Final clash between 𝘼𝙧𝙜𝙚𝙣𝙩𝙞𝙣𝙖 𝙫𝙨 𝘾𝙧𝙤𝙖𝙩𝙞𝙖! Is it going to be 𝗔𝗿𝗴𝗲𝗻𝘁𝗶𝗻𝗮 or 𝗖𝗿𝗼𝗮𝘁𝗶𝗮 in the Final?  Bet now here  https://t.co/pPmKNMNfDA  https://t.co/z6r8iCeqEh\n",
            "1602580388257435648 2022-12-13 08:25:13 +0000 <Skeletons1987> @Carra23 Southgate is one of the Highest paid international managers and hasn’t beaten a decent team in the knockout stages so all this is nonsense. Pay someone the same as Southgate gets but who has an attacking, cultured football mentality.\n",
            "1602580380829290496 2022-12-13 08:25:11 +0000 <BookieBoostApp> 😀 Today's featured Both Teams To Score 8-Fold accumulator is 79/1  Full details at ➡️  https://t.co/igB2x8vLu2  👊 See ALL accas on  https://t.co/b7pLPusKF1  https://t.co/2icUbYVws8\n",
            "1602580370192752640 2022-12-13 08:25:09 +0000 <ClassifiedCrab> @elblancomamba2 @zzz_oscar @Football__Tweet 😍😍😍😍😍😍😍😍😍😍😍😍  https://t.co/6fpEAoJhVK\n",
            "1602580368091189248 2022-12-13 08:25:08 +0000 <ChanaVutete> @cudzy12 Even a kid cannot stand in front of Ajigija and expect to be painted for free. The parent has to pay. But When it comes to football suddenly everything becomes FREE. This is very unfair and dangerous!\n",
            "1602580361892233217 2022-12-13 08:25:07 +0000 <JAPAN_FB> 【FC東京】 【12/13再掲】【内容確認・変更は明日12/14まで！】2023年間チケットおよびクラブサポートメンバーの自動継続について  https://t.co/mAotg88F8S #japanfb #FC東京\n",
            "1602580361028210691 2022-12-13 08:25:07 +0000 <JAPAN_FB> 【V・ファーレン長崎】 【ホームタウン】野母崎海岸で清掃活動を行いました！（12/10）  https://t.co/ySAvQEHEP7 #japanfb #V・ファーレン長崎\n",
            "1602580360327565312 2022-12-13 08:25:07 +0000 <iamanadem> @KMbappe complete player . He knows, speaks and understand football.. Classic guy !! 💯😎🔥\n",
            "1602580360168341505 2022-12-13 08:25:07 +0000 <JAPAN_FB> 【水戸ホーリーホック】 安藤瑞季選手 複数年契約更新のお知らせ  https://t.co/2pzUo5JVrr #japanfb #水戸ホーリーホック\n",
            "1602580359115595776 2022-12-13 08:25:06 +0000 <JAPAN_FB> 【FC岐阜】 畑潤基選手、ブラウブリッツ秋田へ完全移籍のお知らせ  https://t.co/pKIeMk3vCu #japanfb #FC岐阜\n",
            "1602580358054432769 2022-12-13 08:25:06 +0000 <JAPAN_FB> 【Y.S.C.C.横浜】 道本大飛選手 Y.S.C.C.セカンドより昇格のお知らせ  https://t.co/Vpy78rBDIh #japanfb #Y.S.C.C.横浜\n",
            "1602580357156577280 2022-12-13 08:25:06 +0000 <TF_Assembly> Join Us Tonight On  https://t.co/IzLx9iGBoX\n",
            "1602580357152657410 2022-12-13 08:25:06 +0000 <JAPAN_FB> 【Y.S.C.C.横浜】 田原廉登選手 産業能率大学より加入のお知らせ  https://t.co/Vpy78rBDIh #japanfb #Y.S.C.C.横浜\n",
            "1602580356976222208 2022-12-13 08:25:06 +0000 <WelshErnie> @90sfootball At least half of those are terrible football stadiums. Massive running tracks around them putting fans miles back from the pitch and creating a poor atmosphere.\n",
            "1602580356271464449 2022-12-13 08:25:06 +0000 <JAPAN_FB> 【AC長野パルセイロ】 流通経済大学　梅村真央選手　加入内定のお知らせ  https://t.co/EF8OLadfBp #japanfb #AC長野パルセイロ\n",
            "1602580355134824448 2022-12-13 08:25:05 +0000 <JAPAN_FB> 【AC長野パルセイロ】 トレーニングマッチ結果（vs.流通経済大学女子サッカー部）のお知らせ  https://t.co/EF8OLadfBp #japanfb #AC長野パルセイロ\n",
            "1602580353918840832 2022-12-13 08:25:05 +0000 <APNBzK1n0rvxNN7> In football you are vouchsafed46 fewer chances.         https://t.co/gxHKGtTuHh\n",
            "1602580353025073152 2022-12-13 08:25:05 +0000 <JAPAN_FB> 【宮城県サッカー協会】 【参加者募集】第4回中学生女子サッカーフェスティバル開催！  https://t.co/qu2i07WRHm #japanfb #宮城県サッカー協会\n",
            "1602580352010113025 2022-12-13 08:25:05 +0000 <JAPAN_FB> 【FC今治】 【レディース】土井 咲良選手 ディアヴォロッソ広島からの完全移籍での入団について  https://t.co/Byhmo6CPDg #japanfb #FC今治\n",
            "1602580351045484544 2022-12-13 08:25:04 +0000 <SamWallaceTel> @adambrown93 @JacobSteinberg It’s not really about protecting English coaches although lots have jumped to that conclusion. It’s about protecting international football and the things that make it so good\n",
            "1602580346973073408 2022-12-13 08:25:03 +0000 <JRigas23> @drt15 are you sure you want Sydney to host the A League grand finals for the next 3 years. It’s obvious Sydneysiders don’t pack out football Grand Finals  https://t.co/rek5dbl4MX\n",
            "1602580346733621248 2022-12-13 08:25:03 +0000 <JAPAN_FB> 【ヴァンラーレ八戸】 坪井一真選手 移籍先決定のお知らせ  https://t.co/6zHuPmhuqo #japanfb #ヴァンラーレ八戸\n",
            "1602580346465583104 2022-12-13 08:25:03 +0000 <lin250912888> @justinsuntron @binance A 6-year-old user of ok once exploded thousands of Bitcoins, but now he helps ok recommend users to participate in football NFT. As a result, he lost and won risk control! Speaking in batches, are there many referees? Is it our fault that there are many accounts?\n",
            "1602580345781571584 2022-12-13 08:25:03 +0000 <JAPAN_FB> 【高知ユナイテッドSC】 藤﨑 将汰選手 移籍先決定のお知らせ  https://t.co/xydGNzFY1g #japanfb #高知ユナイテッドSC\n",
            "1602580344741724160 2022-12-13 08:25:03 +0000 <JAPAN_FB> 【和歌山県サッカー協会】 2022年度（公財）日本サッカー協会　公認D級コーチ養成講習会　開催要項　アップしました  https://t.co/3QIhoTUBm9 #japanfb #和歌山県サッカー協会\n",
            "1602580343890272256 2022-12-13 08:25:03 +0000 <JAPAN_FB> 【岡山県サッカー協会】 審判委員会 を更新しました  https://t.co/fspURnzC7y #japanfb #岡山県サッカー協会\n",
            "1602580342841704448 2022-12-13 08:25:02 +0000 <JAPAN_FB> 【産業能率大学】 田原 廉登 選手(4年)、Y.S.C.C.横浜 加入内定のお知らせ  https://t.co/yeFsUWgpfn #japanfb #産業能率大学\n",
            "1602580339423150081 2022-12-13 08:25:02 +0000 <SihleGeneral10> Football is back  Croatia 🇭🇷 vs Argentina 🇦🇷  Mazikhale 🔥  https://t.co/lGFjQkLr6B\n",
            "1602580333106692096 2022-12-13 08:25:00 +0000 <BambiFootball> ついに父から宝くじの購入代行頼まれる年齢になったか…  https://t.co/DoE5kRuQK5\n",
            "1602580333026738176 2022-12-13 08:25:00 +0000 <TotalAnalysis> Ahead of tonight's #FIFAWorldCup semi-final, Josko Gvardiol will be key for #Croatia to stop #Argentina 🇭🇷🇦🇷  Read our scout report on why Gvardiol will be one of the best centre-backs in the world in the near future 👇  https://t.co/fQ5dFHuYWE\n",
            "1602580325758115840 2022-12-13 08:24:58 +0000 <yourharlow> Harlow Town Football Club hold talks with MP Robert Halfon   https://t.co/HyKJVJ5Z5Y  https://t.co/JFTls7HN5f\n",
            "1602580316711002113 2022-12-13 08:24:56 +0000 <Daniel_markdmk> @Carra23 @England The reason u won't take any trophy with this modern football\n",
            "1602580316354359296 2022-12-13 08:24:56 +0000 <HopeisHoax> @JaegarFC Yeah it's more stressful than fun. That's the only downside. I still have traumatic memories of 2014 and 2018 WC. I watched all matches in  nervousness unlike club football (league football precisely).  But yeah each to their own 👍👍\n",
            "1602580309643509761 2022-12-13 08:24:54 +0000 <AlmightyEvanz> @bigboytola @ShotecP @eric_tc24 @TimelineCR7 5 bdos, 2 NT titles, over 800goals.  Just close your mouth if you have nothing to say. He is not the first to play football at such age.\n",
            "1602580299401302016 2022-12-13 08:24:52 +0000 <NguyenM75975437> @Football__Tweet Griezman or Mbappe ???  Hard to pick 1 guy to choose\n",
            "1602580296343379974 2022-12-13 08:24:51 +0000 <KirkOe4264> careers and career trajectories. Skip meanwhile has NEVER PLAYED FOOTBALL EVER. HE PLAYED FUCKING BASEBALL AND BASKETBALL, AS A SMALL CHILD. I have more sports creds than Skip does for fucks sake.\n",
            "1602580295445684224 2022-12-13 08:24:51 +0000 <Peachboi_1> @Football__Tweet One of the very best in PL at his peak.\n",
            "1602580291624787969 2022-12-13 08:24:50 +0000 <philleeds> @DJClark62 @tonyangelcyn Just thinking the average football crowd is 35,000 in the prem if all joined together that's 700,000 of potential pent up aggression with people taking the piss who might want to take over. Don't think they'd want to argue with that? Just a thought\n",
            "1602580288525189122 2022-12-13 08:24:49 +0000 <JeremyFoley19> @joshheird @VilleUpdates @joshheird  You have done a great job being the AD of @LouisvilleC  and with selecting a great hire of our Men's basketball coach Kenny Payne and the Football Coach Jeff Brohm .   Go Cards! #L1C4\n",
            "1602580284389691392 2022-12-13 08:24:48 +0000 <thiibault_mnr> @lekingparisien @Dvego8 @Etleau @_BeFootball le football il a changé\n",
            "1602580280895852544 2022-12-13 08:24:48 +0000 <HBWFC1> Everyone at Boro would like to wish Angel a very Happy Birthday! We hope you have a great day💙💛  #UpTheBoro #OneHBFC #WeAreHaringey #UnifiedByPride #football  https://t.co/tkCVqsu3LZ\n",
            "1602580276533764096 2022-12-13 08:24:47 +0000 <Dededede015> @FaktaSepakbola Kalo inget Fun Football, jadi inget Ronaldinho waktu dateng ke Indonesia..  https://t.co/0q4W3DcXxl\n",
            "1602580263501971458 2022-12-13 08:24:43 +0000 <FootFerreira> @goatslionel10 Vamos Argentina 🇦🇷 💙\n"
          ]
        }
      ]
    },
    {
      "cell_type": "code",
      "source": [
        "def column_names():\n",
        "    return twint.output.panda.Tweets_df.columns\n",
        "def twint_to_pd(columns):\n",
        "    return twint.output.panda.Tweets_df[columns]\n",
        "column_names()"
      ],
      "metadata": {
        "colab": {
          "base_uri": "https://localhost:8080/"
        },
        "id": "BbGQS3Ee9HXD",
        "outputId": "0b4c81b2-a208-461b-d216-955c79426570"
      },
      "execution_count": null,
      "outputs": [
        {
          "output_type": "execute_result",
          "data": {
            "text/plain": [
              "Index(['id', 'conversation_id', 'created_at', 'date', 'timezone', 'place',\n",
              "       'tweet', 'language', 'hashtags', 'cashtags', 'user_id', 'user_id_str',\n",
              "       'username', 'name', 'day', 'hour', 'link', 'urls', 'photos', 'video',\n",
              "       'thumbnail', 'retweet', 'nlikes', 'nreplies', 'nretweets', 'quote_url',\n",
              "       'search', 'near', 'geo', 'source', 'user_rt_id', 'user_rt',\n",
              "       'retweet_id', 'reply_to', 'retweet_date', 'translate', 'trans_src',\n",
              "       'trans_dest'],\n",
              "      dtype='object')"
            ]
          },
          "metadata": {},
          "execution_count": 53
        }
      ]
    },
    {
      "cell_type": "code",
      "source": [
        "\n",
        "tweet_df = twint_to_pd([\"date\", \"username\", \"tweet\", \"hashtags\"])\n",
        "tweet_df.head(10)\n",
        "\n"
      ],
      "metadata": {
        "colab": {
          "base_uri": "https://localhost:8080/",
          "height": 363
        },
        "id": "WGHttFrh9P45",
        "outputId": "d120c39f-638f-4616-fa12-e9c9a2a3670b"
      },
      "execution_count": null,
      "outputs": [
        {
          "output_type": "execute_result",
          "data": {
            "text/plain": [
              "                  date         username  \\\n",
              "0  2022-12-13 08:25:35      PharmJo_CFC   \n",
              "1  2022-12-13 08:25:34       ShangoFoot   \n",
              "2  2022-12-13 08:25:33   sameerabusamra   \n",
              "3  2022-12-13 08:25:33           hooHar   \n",
              "4  2022-12-13 08:25:32  Nicole_football   \n",
              "5  2022-12-13 08:25:32     FieldStForum   \n",
              "6  2022-12-13 08:25:31  7aa8855e0a35442   \n",
              "7  2022-12-13 08:25:30  tembah_football   \n",
              "8  2022-12-13 08:25:30      RbDribbling   \n",
              "9  2022-12-13 08:25:29   kevinthe_world   \n",
              "\n",
              "                                               tweet  \\\n",
              "0  @TumininuSimon @Yubiieeee @UgwunnaEjikem Do yo...   \n",
              "1  FOOT MERCATO 🔵 Espagne : Luis Enrique révèle q...   \n",
              "2  @sportbible If there is a good one yes of cour...   \n",
              "3  @djhistory @billboard I love this song (and Va...   \n",
              "4  @TxxHomeparty 彼はりるきぃよりフォロワーが多い用ですが、彼も詐欺師だと思います...   \n",
              "5  UGA Recruiting: One of the Best Quarterbacks i...   \n",
              "6  @anandmahindra Everything that you have experi...   \n",
              "7  تقرير تمبة.. مواعيد إستئناف دوريات \"بيج 5 \" بع...   \n",
              "8              @unplugthedrug @LFCTransferRoom Stop😂   \n",
              "9  🚨 Le retour du foot 🚨  ⚽ J'ai besoin de vous p...   \n",
              "\n",
              "                     hashtags  \n",
              "0                          []  \n",
              "1                          []  \n",
              "2                          []  \n",
              "3                          []  \n",
              "4                          []  \n",
              "5                          []  \n",
              "6                          []  \n",
              "7    [كاس_العالم2022, الدوري]  \n",
              "8                          []  \n",
              "9  [fm23, twitchfr, football]  "
            ],
            "text/html": [
              "\n",
              "  <div id=\"df-6fa8733d-a5ba-4fcc-a911-aaad4b23c3ad\">\n",
              "    <div class=\"colab-df-container\">\n",
              "      <div>\n",
              "<style scoped>\n",
              "    .dataframe tbody tr th:only-of-type {\n",
              "        vertical-align: middle;\n",
              "    }\n",
              "\n",
              "    .dataframe tbody tr th {\n",
              "        vertical-align: top;\n",
              "    }\n",
              "\n",
              "    .dataframe thead th {\n",
              "        text-align: right;\n",
              "    }\n",
              "</style>\n",
              "<table border=\"1\" class=\"dataframe\">\n",
              "  <thead>\n",
              "    <tr style=\"text-align: right;\">\n",
              "      <th></th>\n",
              "      <th>date</th>\n",
              "      <th>username</th>\n",
              "      <th>tweet</th>\n",
              "      <th>hashtags</th>\n",
              "    </tr>\n",
              "  </thead>\n",
              "  <tbody>\n",
              "    <tr>\n",
              "      <th>0</th>\n",
              "      <td>2022-12-13 08:25:35</td>\n",
              "      <td>PharmJo_CFC</td>\n",
              "      <td>@TumininuSimon @Yubiieeee @UgwunnaEjikem Do yo...</td>\n",
              "      <td>[]</td>\n",
              "    </tr>\n",
              "    <tr>\n",
              "      <th>1</th>\n",
              "      <td>2022-12-13 08:25:34</td>\n",
              "      <td>ShangoFoot</td>\n",
              "      <td>FOOT MERCATO 🔵 Espagne : Luis Enrique révèle q...</td>\n",
              "      <td>[]</td>\n",
              "    </tr>\n",
              "    <tr>\n",
              "      <th>2</th>\n",
              "      <td>2022-12-13 08:25:33</td>\n",
              "      <td>sameerabusamra</td>\n",
              "      <td>@sportbible If there is a good one yes of cour...</td>\n",
              "      <td>[]</td>\n",
              "    </tr>\n",
              "    <tr>\n",
              "      <th>3</th>\n",
              "      <td>2022-12-13 08:25:33</td>\n",
              "      <td>hooHar</td>\n",
              "      <td>@djhistory @billboard I love this song (and Va...</td>\n",
              "      <td>[]</td>\n",
              "    </tr>\n",
              "    <tr>\n",
              "      <th>4</th>\n",
              "      <td>2022-12-13 08:25:32</td>\n",
              "      <td>Nicole_football</td>\n",
              "      <td>@TxxHomeparty 彼はりるきぃよりフォロワーが多い用ですが、彼も詐欺師だと思います...</td>\n",
              "      <td>[]</td>\n",
              "    </tr>\n",
              "    <tr>\n",
              "      <th>5</th>\n",
              "      <td>2022-12-13 08:25:32</td>\n",
              "      <td>FieldStForum</td>\n",
              "      <td>UGA Recruiting: One of the Best Quarterbacks i...</td>\n",
              "      <td>[]</td>\n",
              "    </tr>\n",
              "    <tr>\n",
              "      <th>6</th>\n",
              "      <td>2022-12-13 08:25:31</td>\n",
              "      <td>7aa8855e0a35442</td>\n",
              "      <td>@anandmahindra Everything that you have experi...</td>\n",
              "      <td>[]</td>\n",
              "    </tr>\n",
              "    <tr>\n",
              "      <th>7</th>\n",
              "      <td>2022-12-13 08:25:30</td>\n",
              "      <td>tembah_football</td>\n",
              "      <td>تقرير تمبة.. مواعيد إستئناف دوريات \"بيج 5 \" بع...</td>\n",
              "      <td>[كاس_العالم2022, الدوري]</td>\n",
              "    </tr>\n",
              "    <tr>\n",
              "      <th>8</th>\n",
              "      <td>2022-12-13 08:25:30</td>\n",
              "      <td>RbDribbling</td>\n",
              "      <td>@unplugthedrug @LFCTransferRoom Stop😂</td>\n",
              "      <td>[]</td>\n",
              "    </tr>\n",
              "    <tr>\n",
              "      <th>9</th>\n",
              "      <td>2022-12-13 08:25:29</td>\n",
              "      <td>kevinthe_world</td>\n",
              "      <td>🚨 Le retour du foot 🚨  ⚽ J'ai besoin de vous p...</td>\n",
              "      <td>[fm23, twitchfr, football]</td>\n",
              "    </tr>\n",
              "  </tbody>\n",
              "</table>\n",
              "</div>\n",
              "      <button class=\"colab-df-convert\" onclick=\"convertToInteractive('df-6fa8733d-a5ba-4fcc-a911-aaad4b23c3ad')\"\n",
              "              title=\"Convert this dataframe to an interactive table.\"\n",
              "              style=\"display:none;\">\n",
              "        \n",
              "  <svg xmlns=\"http://www.w3.org/2000/svg\" height=\"24px\"viewBox=\"0 0 24 24\"\n",
              "       width=\"24px\">\n",
              "    <path d=\"M0 0h24v24H0V0z\" fill=\"none\"/>\n",
              "    <path d=\"M18.56 5.44l.94 2.06.94-2.06 2.06-.94-2.06-.94-.94-2.06-.94 2.06-2.06.94zm-11 1L8.5 8.5l.94-2.06 2.06-.94-2.06-.94L8.5 2.5l-.94 2.06-2.06.94zm10 10l.94 2.06.94-2.06 2.06-.94-2.06-.94-.94-2.06-.94 2.06-2.06.94z\"/><path d=\"M17.41 7.96l-1.37-1.37c-.4-.4-.92-.59-1.43-.59-.52 0-1.04.2-1.43.59L10.3 9.45l-7.72 7.72c-.78.78-.78 2.05 0 2.83L4 21.41c.39.39.9.59 1.41.59.51 0 1.02-.2 1.41-.59l7.78-7.78 2.81-2.81c.8-.78.8-2.07 0-2.86zM5.41 20L4 18.59l7.72-7.72 1.47 1.35L5.41 20z\"/>\n",
              "  </svg>\n",
              "      </button>\n",
              "      \n",
              "  <style>\n",
              "    .colab-df-container {\n",
              "      display:flex;\n",
              "      flex-wrap:wrap;\n",
              "      gap: 12px;\n",
              "    }\n",
              "\n",
              "    .colab-df-convert {\n",
              "      background-color: #E8F0FE;\n",
              "      border: none;\n",
              "      border-radius: 50%;\n",
              "      cursor: pointer;\n",
              "      display: none;\n",
              "      fill: #1967D2;\n",
              "      height: 32px;\n",
              "      padding: 0 0 0 0;\n",
              "      width: 32px;\n",
              "    }\n",
              "\n",
              "    .colab-df-convert:hover {\n",
              "      background-color: #E2EBFA;\n",
              "      box-shadow: 0px 1px 2px rgba(60, 64, 67, 0.3), 0px 1px 3px 1px rgba(60, 64, 67, 0.15);\n",
              "      fill: #174EA6;\n",
              "    }\n",
              "\n",
              "    [theme=dark] .colab-df-convert {\n",
              "      background-color: #3B4455;\n",
              "      fill: #D2E3FC;\n",
              "    }\n",
              "\n",
              "    [theme=dark] .colab-df-convert:hover {\n",
              "      background-color: #434B5C;\n",
              "      box-shadow: 0px 1px 3px 1px rgba(0, 0, 0, 0.15);\n",
              "      filter: drop-shadow(0px 1px 2px rgba(0, 0, 0, 0.3));\n",
              "      fill: #FFFFFF;\n",
              "    }\n",
              "  </style>\n",
              "\n",
              "      <script>\n",
              "        const buttonEl =\n",
              "          document.querySelector('#df-6fa8733d-a5ba-4fcc-a911-aaad4b23c3ad button.colab-df-convert');\n",
              "        buttonEl.style.display =\n",
              "          google.colab.kernel.accessAllowed ? 'block' : 'none';\n",
              "\n",
              "        async function convertToInteractive(key) {\n",
              "          const element = document.querySelector('#df-6fa8733d-a5ba-4fcc-a911-aaad4b23c3ad');\n",
              "          const dataTable =\n",
              "            await google.colab.kernel.invokeFunction('convertToInteractive',\n",
              "                                                     [key], {});\n",
              "          if (!dataTable) return;\n",
              "\n",
              "          const docLinkHtml = 'Like what you see? Visit the ' +\n",
              "            '<a target=\"_blank\" href=https://colab.research.google.com/notebooks/data_table.ipynb>data table notebook</a>'\n",
              "            + ' to learn more about interactive tables.';\n",
              "          element.innerHTML = '';\n",
              "          dataTable['output_type'] = 'display_data';\n",
              "          await google.colab.output.renderOutput(dataTable, element);\n",
              "          const docLink = document.createElement('div');\n",
              "          docLink.innerHTML = docLinkHtml;\n",
              "          element.appendChild(docLink);\n",
              "        }\n",
              "      </script>\n",
              "    </div>\n",
              "  </div>\n",
              "  "
            ]
          },
          "metadata": {},
          "execution_count": 71
        }
      ]
    },
    {
      "cell_type": "code",
      "source": [
        "print(len(tweet_df))"
      ],
      "metadata": {
        "colab": {
          "base_uri": "https://localhost:8080/"
        },
        "id": "Q7TwCB4i9eIJ",
        "outputId": "e1298761-2770-47e0-8d3c-9713fc694aec"
      },
      "execution_count": null,
      "outputs": [
        {
          "output_type": "stream",
          "name": "stdout",
          "text": [
            "60\n"
          ]
        }
      ]
    },
    {
      "cell_type": "code",
      "source": [
        "tweet_list = tweet_df['tweet'].tolist()"
      ],
      "metadata": {
        "id": "BBqOLOgz95rx"
      },
      "execution_count": null,
      "outputs": []
    },
    {
      "cell_type": "code",
      "source": [
        "import json\n",
        "#Store you OpenAPI key in a json file\n",
        "OPENAI_API_KEY = ''\n",
        "with open('/content/OpenAI.json', 'r') as file_to_read:\n",
        "    json_data = json.load(file_to_read)\n",
        "    OPENAI_API_KEY = json_data[\"OPENAI_API_KEY\"]"
      ],
      "metadata": {
        "id": "RfmpkMqT1daE"
      },
      "execution_count": null,
      "outputs": []
    },
    {
      "cell_type": "code",
      "source": [
        "import os\n",
        "import openai\n",
        "\n",
        "openai.api_key =  OPENAI_API_KEY"
      ],
      "metadata": {
        "id": "XajkO-wEtnXp"
      },
      "execution_count": null,
      "outputs": []
    },
    {
      "cell_type": "code",
      "source": [
        "response = openai.Completion.create(\n",
        "  model=\"text-davinci-003\",\n",
        "  prompt=\"Classify the sentiment in these tweets:\\n\\n1. \\\"I can't stand homework\\\"\\n2. \\\"This sucks. I'm bored 😠\\\"\\n3. \\\"I can't wait for Halloween!!!\\\"\\n4. \\\"My cat is adorable ❤️❤️\\\"\\n5. \\\"I hate chocolate\\\"\\n\\nTweet sentiment ratings:\",\n",
        "  temperature=0,\n",
        "  max_tokens=60,\n",
        "  top_p=1.0,\n",
        "  frequency_penalty=0.0,\n",
        "  presence_penalty=0.0\n",
        ")"
      ],
      "metadata": {
        "id": "vfWpy7_QVC8t"
      },
      "execution_count": null,
      "outputs": []
    },
    {
      "cell_type": "code",
      "source": [
        "print(response)"
      ],
      "metadata": {
        "colab": {
          "base_uri": "https://localhost:8080/"
        },
        "id": "atOkgMgP-Qbj",
        "outputId": "f805f4a1-52fd-4081-8699-800a115b07e9"
      },
      "execution_count": null,
      "outputs": [
        {
          "output_type": "stream",
          "name": "stdout",
          "text": [
            "{\n",
            "  \"choices\": [\n",
            "    {\n",
            "      \"finish_reason\": \"stop\",\n",
            "      \"index\": 0,\n",
            "      \"logprobs\": null,\n",
            "      \"text\": \"\\n1. Negative\\n2. Negative\\n3. Positive\\n4. Positive\\n5. Negative\"\n",
            "    }\n",
            "  ],\n",
            "  \"created\": 1670920071,\n",
            "  \"id\": \"cmpl-6MuvfFFJ7JDxKEF433oL2WWBpHqSR\",\n",
            "  \"model\": \"text-davinci-003\",\n",
            "  \"object\": \"text_completion\",\n",
            "  \"usage\": {\n",
            "    \"completion_tokens\": 20,\n",
            "    \"prompt_tokens\": 73,\n",
            "    \"total_tokens\": 93\n",
            "  }\n",
            "}\n"
          ]
        }
      ]
    },
    {
      "cell_type": "code",
      "source": [
        "i =1\n",
        "tweet_str=''\n",
        "for tweet in tweet_list:\n",
        "   tweet_str = tweet_str + str(i) +'.'+'\"'+tweet+'\"'+'\\n'\n",
        "   i=i+1\n",
        "   if i ==10:\n",
        "     break"
      ],
      "metadata": {
        "id": "BrRfivMbAqUr"
      },
      "execution_count": null,
      "outputs": []
    },
    {
      "cell_type": "code",
      "source": [
        "tweet_str"
      ],
      "metadata": {
        "colab": {
          "base_uri": "https://localhost:8080/",
          "height": 123
        },
        "id": "N1r_Por2Bcls",
        "outputId": "5b40bf0e-faa4-4d0b-8fe1-798ae52c5ac3"
      },
      "execution_count": null,
      "outputs": [
        {
          "output_type": "execute_result",
          "data": {
            "text/plain": [
              "'1.\"@TumininuSimon @Yubiieeee @UgwunnaEjikem Do you even know the meaning of footballing abilities? Vision, scanning, passing, shooting, shielding, technique, playmaking, tact, mentality? Football is played with the mind first before the foot and that\\'s where Messi excels than Ronaldo. Football is played in the mind\"\\n2.\"FOOT MERCATO 🔵 Espagne : Luis Enrique révèle qu’il y a un joueur qu’il regrette d’avoir emmené à la Coupe du Monde  https://t.co/j000MT6rcd  https://t.co/WCBGjI1PFA\"\\n3.\"@sportbible If there is a good one yes of course .. but someone like Pep or Klopp have been here for a min .. they ran the English football world for few years .. clearly they know what they’re doing .. pay up and hire one of them\"\\n4.\"@djhistory @billboard I love this song (and Valley Road) but I can’t hear it without thinking of Des Lynum and the football tables.\"\\n5.\"@TxxHomeparty 彼はりるきぃよりフォロワーが多い用ですが、彼も詐欺師だと思いますか？私は怪しいと思ってます！\"\\n6.\"UGA Recruiting: One of the Best Quarterbacks in the Nation is in the Transfer\\xa0Portal  https://t.co/0hCgUrLnUz\"\\n7.\"@anandmahindra Everything that you have experienced in professional football till now has made you a veteran. You are expected to pick yourself up and impart wisdom to the younger players as they look upto you\"\\n8.\"تقرير تمبة.. مواعيد إستئناف دوريات \"بيج 5 \" بعد نهاية كأس العالم #كاس_العالم2022 #الدوري الإنجليزي  https://t.co/B839hibC3e\"\\n9.\"@unplugthedrug @LFCTransferRoom Stop😂\"\\n'"
            ],
            "application/vnd.google.colaboratory.intrinsic+json": {
              "type": "string"
            }
          },
          "metadata": {},
          "execution_count": 79
        }
      ]
    },
    {
      "cell_type": "code",
      "source": [
        "prompt=\"Classify the sentiment in these tweets:\\n\" + tweet_str + \"\\n Tweet sentiment ratings:\""
      ],
      "metadata": {
        "id": "T3hZO60FgU_3"
      },
      "execution_count": null,
      "outputs": []
    },
    {
      "cell_type": "code",
      "source": [
        "prompt"
      ],
      "metadata": {
        "colab": {
          "base_uri": "https://localhost:8080/",
          "height": 123
        },
        "id": "M245r0OW_XBk",
        "outputId": "22e5d3de-710b-4cd2-c6dc-10d23d6b07b6"
      },
      "execution_count": null,
      "outputs": [
        {
          "output_type": "execute_result",
          "data": {
            "text/plain": [
              "'Classify the sentiment in these tweets:\\n1.\"@TumininuSimon @Yubiieeee @UgwunnaEjikem Do you even know the meaning of footballing abilities? Vision, scanning, passing, shooting, shielding, technique, playmaking, tact, mentality? Football is played with the mind first before the foot and that\\'s where Messi excels than Ronaldo. Football is played in the mind\"\\n2.\"FOOT MERCATO 🔵 Espagne : Luis Enrique révèle qu’il y a un joueur qu’il regrette d’avoir emmené à la Coupe du Monde  https://t.co/j000MT6rcd  https://t.co/WCBGjI1PFA\"\\n3.\"@sportbible If there is a good one yes of course .. but someone like Pep or Klopp have been here for a min .. they ran the English football world for few years .. clearly they know what they’re doing .. pay up and hire one of them\"\\n4.\"@djhistory @billboard I love this song (and Valley Road) but I can’t hear it without thinking of Des Lynum and the football tables.\"\\n5.\"@TxxHomeparty 彼はりるきぃよりフォロワーが多い用ですが、彼も詐欺師だと思いますか？私は怪しいと思ってます！\"\\n6.\"UGA Recruiting: One of the Best Quarterbacks in the Nation is in the Transfer\\xa0Portal  https://t.co/0hCgUrLnUz\"\\n7.\"@anandmahindra Everything that you have experienced in professional football till now has made you a veteran. You are expected to pick yourself up and impart wisdom to the younger players as they look upto you\"\\n8.\"تقرير تمبة.. مواعيد إستئناف دوريات \"بيج 5 \" بعد نهاية كأس العالم #كاس_العالم2022 #الدوري الإنجليزي  https://t.co/B839hibC3e\"\\n9.\"@unplugthedrug @LFCTransferRoom Stop😂\"\\n\\n Tweet sentiment ratings:'"
            ],
            "application/vnd.google.colaboratory.intrinsic+json": {
              "type": "string"
            }
          },
          "metadata": {},
          "execution_count": 81
        }
      ]
    },
    {
      "cell_type": "code",
      "source": [
        "response = openai.Completion.create(\n",
        "  model=\"text-davinci-003\",\n",
        "  prompt= prompt,\n",
        "  temperature=0,\n",
        "  max_tokens=120,\n",
        "  top_p=1.0,\n",
        "  frequency_penalty=0.0,\n",
        "  presence_penalty=0.0\n",
        ")"
      ],
      "metadata": {
        "id": "YlG-2zGm_fVM"
      },
      "execution_count": null,
      "outputs": []
    },
    {
      "cell_type": "code",
      "source": [
        "response"
      ],
      "metadata": {
        "colab": {
          "base_uri": "https://localhost:8080/"
        },
        "id": "1VGQcN81_qdL",
        "outputId": "c26116ce-a6b8-4eb8-9076-e644fdbd3729"
      },
      "execution_count": null,
      "outputs": [
        {
          "output_type": "execute_result",
          "data": {
            "text/plain": [
              "<OpenAIObject text_completion id=cmpl-6Mv0EXFHnjkSFpgEL1Nh6v91yYX1X at 0x7f8080cb4c20> JSON: {\n",
              "  \"choices\": [\n",
              "    {\n",
              "      \"finish_reason\": \"stop\",\n",
              "      \"index\": 0,\n",
              "      \"logprobs\": null,\n",
              "      \"text\": \"\\n1.Positive\\n2.Neutral\\n3.Positive\\n4.Positive\\n5.Neutral\\n6.Neutral\\n7.Positive\\n8.Neutral\\n9.Negative\"\n",
              "    }\n",
              "  ],\n",
              "  \"created\": 1670920354,\n",
              "  \"id\": \"cmpl-6Mv0EXFHnjkSFpgEL1Nh6v91yYX1X\",\n",
              "  \"model\": \"text-davinci-003\",\n",
              "  \"object\": \"text_completion\",\n",
              "  \"usage\": {\n",
              "    \"completion_tokens\": 45,\n",
              "    \"prompt_tokens\": 562,\n",
              "    \"total_tokens\": 607\n",
              "  }\n",
              "}"
            ]
          },
          "metadata": {},
          "execution_count": 83
        }
      ]
    },
    {
      "cell_type": "code",
      "source": [
        "tweet_str.split('\\n')"
      ],
      "metadata": {
        "colab": {
          "base_uri": "https://localhost:8080/"
        },
        "id": "RG6rrqczcvFE",
        "outputId": "faf843f8-148b-4493-ef90-c69c311b0a62"
      },
      "execution_count": null,
      "outputs": [
        {
          "output_type": "execute_result",
          "data": {
            "text/plain": [
              "['1.\"@TumininuSimon @Yubiieeee @UgwunnaEjikem Do you even know the meaning of footballing abilities? Vision, scanning, passing, shooting, shielding, technique, playmaking, tact, mentality? Football is played with the mind first before the foot and that\\'s where Messi excels than Ronaldo. Football is played in the mind\"',\n",
              " '2.\"FOOT MERCATO 🔵 Espagne : Luis Enrique révèle qu’il y a un joueur qu’il regrette d’avoir emmené à la Coupe du Monde  https://t.co/j000MT6rcd  https://t.co/WCBGjI1PFA\"',\n",
              " '3.\"@sportbible If there is a good one yes of course .. but someone like Pep or Klopp have been here for a min .. they ran the English football world for few years .. clearly they know what they’re doing .. pay up and hire one of them\"',\n",
              " '4.\"@djhistory @billboard I love this song (and Valley Road) but I can’t hear it without thinking of Des Lynum and the football tables.\"',\n",
              " '5.\"@TxxHomeparty 彼はりるきぃよりフォロワーが多い用ですが、彼も詐欺師だと思いますか？私は怪しいと思ってます！\"',\n",
              " '6.\"UGA Recruiting: One of the Best Quarterbacks in the Nation is in the Transfer\\xa0Portal  https://t.co/0hCgUrLnUz\"',\n",
              " '7.\"@anandmahindra Everything that you have experienced in professional football till now has made you a veteran. You are expected to pick yourself up and impart wisdom to the younger players as they look upto you\"',\n",
              " '8.\"تقرير تمبة.. مواعيد إستئناف دوريات \"بيج 5 \" بعد نهاية كأس العالم #كاس_العالم2022 #الدوري الإنجليزي  https://t.co/B839hibC3e\"',\n",
              " '9.\"@unplugthedrug @LFCTransferRoom Stop😂\"',\n",
              " '']"
            ]
          },
          "metadata": {},
          "execution_count": 84
        }
      ]
    },
    {
      "cell_type": "code",
      "source": [
        "(response[\"choices\"][0][\"text\"]).split('\\n')"
      ],
      "metadata": {
        "colab": {
          "base_uri": "https://localhost:8080/"
        },
        "id": "E0_076v5_847",
        "outputId": "36b6ae1f-5319-4163-a2cb-e6360eaeb60e"
      },
      "execution_count": null,
      "outputs": [
        {
          "output_type": "execute_result",
          "data": {
            "text/plain": [
              "['',\n",
              " '1.Positive',\n",
              " '2.Neutral',\n",
              " '3.Positive',\n",
              " '4.Positive',\n",
              " '5.Neutral',\n",
              " '6.Neutral',\n",
              " '7.Positive',\n",
              " '8.Neutral',\n",
              " '9.Negative']"
            ]
          },
          "metadata": {},
          "execution_count": 85
        }
      ]
    },
    {
      "cell_type": "code",
      "source": [],
      "metadata": {
        "id": "Hqwev-rmdIKV"
      },
      "execution_count": null,
      "outputs": []
    }
  ]
}